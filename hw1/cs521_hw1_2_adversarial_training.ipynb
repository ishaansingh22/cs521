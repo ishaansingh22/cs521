{
  "cells": [
    {
      "cell_type": "markdown",
      "metadata": {
        "id": "Whsg1XX_OZs6"
      },
      "source": [
        "# CS 521 - HW 1\n",
        "\n",
        "Code"
      ]
    },
    {
      "cell_type": "code",
      "source": [
        "!pip install tensorboardX numpy torch torchvision matplotlib tqdm wandb"
      ],
      "metadata": {
        "colab": {
          "base_uri": "https://localhost:8080/"
        },
        "id": "YptyrEOgFwte",
        "outputId": "1c0d4916-176a-419e-f4f3-81139c633505"
      },
      "execution_count": 1,
      "outputs": [
        {
          "output_type": "stream",
          "name": "stdout",
          "text": [
            "Collecting tensorboardX\n",
            "  Downloading tensorboardX-2.6.2.2-py2.py3-none-any.whl.metadata (5.8 kB)\n",
            "Requirement already satisfied: numpy in /usr/local/lib/python3.10/dist-packages (1.26.4)\n",
            "Requirement already satisfied: torch in /usr/local/lib/python3.10/dist-packages (2.4.1+cu121)\n",
            "Requirement already satisfied: torchvision in /usr/local/lib/python3.10/dist-packages (0.19.1+cu121)\n",
            "Requirement already satisfied: matplotlib in /usr/local/lib/python3.10/dist-packages (3.7.1)\n",
            "Requirement already satisfied: tqdm in /usr/local/lib/python3.10/dist-packages (4.66.5)\n",
            "Collecting wandb\n",
            "  Downloading wandb-0.18.1-py3-none-manylinux_2_17_x86_64.manylinux2014_x86_64.whl.metadata (9.6 kB)\n",
            "Requirement already satisfied: packaging in /usr/local/lib/python3.10/dist-packages (from tensorboardX) (24.1)\n",
            "Requirement already satisfied: protobuf>=3.20 in /usr/local/lib/python3.10/dist-packages (from tensorboardX) (3.20.3)\n",
            "Requirement already satisfied: filelock in /usr/local/lib/python3.10/dist-packages (from torch) (3.16.0)\n",
            "Requirement already satisfied: typing-extensions>=4.8.0 in /usr/local/lib/python3.10/dist-packages (from torch) (4.12.2)\n",
            "Requirement already satisfied: sympy in /usr/local/lib/python3.10/dist-packages (from torch) (1.13.2)\n",
            "Requirement already satisfied: networkx in /usr/local/lib/python3.10/dist-packages (from torch) (3.3)\n",
            "Requirement already satisfied: jinja2 in /usr/local/lib/python3.10/dist-packages (from torch) (3.1.4)\n",
            "Requirement already satisfied: fsspec in /usr/local/lib/python3.10/dist-packages (from torch) (2024.6.1)\n",
            "Requirement already satisfied: pillow!=8.3.*,>=5.3.0 in /usr/local/lib/python3.10/dist-packages (from torchvision) (10.4.0)\n",
            "Requirement already satisfied: contourpy>=1.0.1 in /usr/local/lib/python3.10/dist-packages (from matplotlib) (1.3.0)\n",
            "Requirement already satisfied: cycler>=0.10 in /usr/local/lib/python3.10/dist-packages (from matplotlib) (0.12.1)\n",
            "Requirement already satisfied: fonttools>=4.22.0 in /usr/local/lib/python3.10/dist-packages (from matplotlib) (4.53.1)\n",
            "Requirement already satisfied: kiwisolver>=1.0.1 in /usr/local/lib/python3.10/dist-packages (from matplotlib) (1.4.7)\n",
            "Requirement already satisfied: pyparsing>=2.3.1 in /usr/local/lib/python3.10/dist-packages (from matplotlib) (3.1.4)\n",
            "Requirement already satisfied: python-dateutil>=2.7 in /usr/local/lib/python3.10/dist-packages (from matplotlib) (2.8.2)\n",
            "Requirement already satisfied: click!=8.0.0,>=7.1 in /usr/local/lib/python3.10/dist-packages (from wandb) (8.1.7)\n",
            "Collecting docker-pycreds>=0.4.0 (from wandb)\n",
            "  Downloading docker_pycreds-0.4.0-py2.py3-none-any.whl.metadata (1.8 kB)\n",
            "Collecting gitpython!=3.1.29,>=1.0.0 (from wandb)\n",
            "  Downloading GitPython-3.1.43-py3-none-any.whl.metadata (13 kB)\n",
            "Requirement already satisfied: platformdirs in /usr/local/lib/python3.10/dist-packages (from wandb) (4.3.4)\n",
            "Requirement already satisfied: psutil>=5.0.0 in /usr/local/lib/python3.10/dist-packages (from wandb) (5.9.5)\n",
            "Requirement already satisfied: pyyaml in /usr/local/lib/python3.10/dist-packages (from wandb) (6.0.2)\n",
            "Requirement already satisfied: requests<3,>=2.0.0 in /usr/local/lib/python3.10/dist-packages (from wandb) (2.32.3)\n",
            "Collecting sentry-sdk>=1.0.0 (from wandb)\n",
            "  Downloading sentry_sdk-2.14.0-py2.py3-none-any.whl.metadata (9.7 kB)\n",
            "Collecting setproctitle (from wandb)\n",
            "  Downloading setproctitle-1.3.3-cp310-cp310-manylinux_2_5_x86_64.manylinux1_x86_64.manylinux_2_17_x86_64.manylinux2014_x86_64.whl.metadata (9.9 kB)\n",
            "Requirement already satisfied: setuptools in /usr/local/lib/python3.10/dist-packages (from wandb) (71.0.4)\n",
            "Requirement already satisfied: six>=1.4.0 in /usr/local/lib/python3.10/dist-packages (from docker-pycreds>=0.4.0->wandb) (1.16.0)\n",
            "Collecting gitdb<5,>=4.0.1 (from gitpython!=3.1.29,>=1.0.0->wandb)\n",
            "  Downloading gitdb-4.0.11-py3-none-any.whl.metadata (1.2 kB)\n",
            "Requirement already satisfied: charset-normalizer<4,>=2 in /usr/local/lib/python3.10/dist-packages (from requests<3,>=2.0.0->wandb) (3.3.2)\n",
            "Requirement already satisfied: idna<4,>=2.5 in /usr/local/lib/python3.10/dist-packages (from requests<3,>=2.0.0->wandb) (3.10)\n",
            "Requirement already satisfied: urllib3<3,>=1.21.1 in /usr/local/lib/python3.10/dist-packages (from requests<3,>=2.0.0->wandb) (2.0.7)\n",
            "Requirement already satisfied: certifi>=2017.4.17 in /usr/local/lib/python3.10/dist-packages (from requests<3,>=2.0.0->wandb) (2024.8.30)\n",
            "Requirement already satisfied: MarkupSafe>=2.0 in /usr/local/lib/python3.10/dist-packages (from jinja2->torch) (2.1.5)\n",
            "Requirement already satisfied: mpmath<1.4,>=1.1.0 in /usr/local/lib/python3.10/dist-packages (from sympy->torch) (1.3.0)\n",
            "Collecting smmap<6,>=3.0.1 (from gitdb<5,>=4.0.1->gitpython!=3.1.29,>=1.0.0->wandb)\n",
            "  Downloading smmap-5.0.1-py3-none-any.whl.metadata (4.3 kB)\n",
            "Downloading tensorboardX-2.6.2.2-py2.py3-none-any.whl (101 kB)\n",
            "\u001b[2K   \u001b[90m━━━━━━━━━━━━━━━━━━━━━━━━━━━━━━━━━━━━━━━━\u001b[0m \u001b[32m101.7/101.7 kB\u001b[0m \u001b[31m8.5 MB/s\u001b[0m eta \u001b[36m0:00:00\u001b[0m\n",
            "\u001b[?25hDownloading wandb-0.18.1-py3-none-manylinux_2_17_x86_64.manylinux2014_x86_64.whl (9.7 MB)\n",
            "\u001b[2K   \u001b[90m━━━━━━━━━━━━━━━━━━━━━━━━━━━━━━━━━━━━━━━━\u001b[0m \u001b[32m9.7/9.7 MB\u001b[0m \u001b[31m111.2 MB/s\u001b[0m eta \u001b[36m0:00:00\u001b[0m\n",
            "\u001b[?25hDownloading docker_pycreds-0.4.0-py2.py3-none-any.whl (9.0 kB)\n",
            "Downloading GitPython-3.1.43-py3-none-any.whl (207 kB)\n",
            "\u001b[2K   \u001b[90m━━━━━━━━━━━━━━━━━━━━━━━━━━━━━━━━━━━━━━━━\u001b[0m \u001b[32m207.3/207.3 kB\u001b[0m \u001b[31m19.3 MB/s\u001b[0m eta \u001b[36m0:00:00\u001b[0m\n",
            "\u001b[?25hDownloading sentry_sdk-2.14.0-py2.py3-none-any.whl (311 kB)\n",
            "\u001b[2K   \u001b[90m━━━━━━━━━━━━━━━━━━━━━━━━━━━━━━━━━━━━━━━━\u001b[0m \u001b[32m311.4/311.4 kB\u001b[0m \u001b[31m25.9 MB/s\u001b[0m eta \u001b[36m0:00:00\u001b[0m\n",
            "\u001b[?25hDownloading setproctitle-1.3.3-cp310-cp310-manylinux_2_5_x86_64.manylinux1_x86_64.manylinux_2_17_x86_64.manylinux2014_x86_64.whl (30 kB)\n",
            "Downloading gitdb-4.0.11-py3-none-any.whl (62 kB)\n",
            "\u001b[2K   \u001b[90m━━━━━━━━━━━━━━━━━━━━━━━━━━━━━━━━━━━━━━━━\u001b[0m \u001b[32m62.7/62.7 kB\u001b[0m \u001b[31m5.1 MB/s\u001b[0m eta \u001b[36m0:00:00\u001b[0m\n",
            "\u001b[?25hDownloading smmap-5.0.1-py3-none-any.whl (24 kB)\n",
            "Installing collected packages: tensorboardX, smmap, setproctitle, sentry-sdk, docker-pycreds, gitdb, gitpython, wandb\n",
            "Successfully installed docker-pycreds-0.4.0 gitdb-4.0.11 gitpython-3.1.43 sentry-sdk-2.14.0 setproctitle-1.3.3 smmap-5.0.1 tensorboardX-2.6.2.2 wandb-0.18.1\n"
          ]
        }
      ]
    },
    {
      "cell_type": "code",
      "execution_count": 2,
      "metadata": {
        "id": "R1domTvnONqD",
        "colab": {
          "base_uri": "https://localhost:8080/"
        },
        "outputId": "0b1a8e9d-562b-4d5f-9cb4-e3c10407d1de"
      },
      "outputs": [
        {
          "output_type": "stream",
          "name": "stdout",
          "text": [
            "Downloading http://yann.lecun.com/exdb/mnist/train-images-idx3-ubyte.gz\n",
            "Failed to download (trying next):\n",
            "HTTP Error 403: Forbidden\n",
            "\n",
            "Downloading https://ossci-datasets.s3.amazonaws.com/mnist/train-images-idx3-ubyte.gz\n",
            "Downloading https://ossci-datasets.s3.amazonaws.com/mnist/train-images-idx3-ubyte.gz to mnist_data/MNIST/raw/train-images-idx3-ubyte.gz\n"
          ]
        },
        {
          "output_type": "stream",
          "name": "stderr",
          "text": [
            "100%|██████████| 9912422/9912422 [00:00<00:00, 12848026.06it/s]\n"
          ]
        },
        {
          "output_type": "stream",
          "name": "stdout",
          "text": [
            "Extracting mnist_data/MNIST/raw/train-images-idx3-ubyte.gz to mnist_data/MNIST/raw\n",
            "\n",
            "Downloading http://yann.lecun.com/exdb/mnist/train-labels-idx1-ubyte.gz\n",
            "Failed to download (trying next):\n",
            "HTTP Error 403: Forbidden\n",
            "\n",
            "Downloading https://ossci-datasets.s3.amazonaws.com/mnist/train-labels-idx1-ubyte.gz\n",
            "Downloading https://ossci-datasets.s3.amazonaws.com/mnist/train-labels-idx1-ubyte.gz to mnist_data/MNIST/raw/train-labels-idx1-ubyte.gz\n"
          ]
        },
        {
          "output_type": "stream",
          "name": "stderr",
          "text": [
            "100%|██████████| 28881/28881 [00:00<00:00, 343370.71it/s]\n"
          ]
        },
        {
          "output_type": "stream",
          "name": "stdout",
          "text": [
            "Extracting mnist_data/MNIST/raw/train-labels-idx1-ubyte.gz to mnist_data/MNIST/raw\n",
            "\n",
            "Downloading http://yann.lecun.com/exdb/mnist/t10k-images-idx3-ubyte.gz\n",
            "Failed to download (trying next):\n",
            "HTTP Error 403: Forbidden\n",
            "\n",
            "Downloading https://ossci-datasets.s3.amazonaws.com/mnist/t10k-images-idx3-ubyte.gz\n",
            "Downloading https://ossci-datasets.s3.amazonaws.com/mnist/t10k-images-idx3-ubyte.gz to mnist_data/MNIST/raw/t10k-images-idx3-ubyte.gz\n"
          ]
        },
        {
          "output_type": "stream",
          "name": "stderr",
          "text": [
            "100%|██████████| 1648877/1648877 [00:00<00:00, 3205110.55it/s]\n"
          ]
        },
        {
          "output_type": "stream",
          "name": "stdout",
          "text": [
            "Extracting mnist_data/MNIST/raw/t10k-images-idx3-ubyte.gz to mnist_data/MNIST/raw\n",
            "\n",
            "Downloading http://yann.lecun.com/exdb/mnist/t10k-labels-idx1-ubyte.gz\n",
            "Failed to download (trying next):\n",
            "HTTP Error 403: Forbidden\n",
            "\n",
            "Downloading https://ossci-datasets.s3.amazonaws.com/mnist/t10k-labels-idx1-ubyte.gz\n",
            "Downloading https://ossci-datasets.s3.amazonaws.com/mnist/t10k-labels-idx1-ubyte.gz to mnist_data/MNIST/raw/t10k-labels-idx1-ubyte.gz\n"
          ]
        },
        {
          "output_type": "stream",
          "name": "stderr",
          "text": [
            "100%|██████████| 4542/4542 [00:00<00:00, 6420805.11it/s]"
          ]
        },
        {
          "output_type": "stream",
          "name": "stdout",
          "text": [
            "Extracting mnist_data/MNIST/raw/t10k-labels-idx1-ubyte.gz to mnist_data/MNIST/raw\n",
            "\n"
          ]
        },
        {
          "output_type": "stream",
          "name": "stderr",
          "text": [
            "\n"
          ]
        },
        {
          "output_type": "execute_result",
          "data": {
            "text/plain": [
              "Sequential(\n",
              "  (0): Normalize()\n",
              "  (1): Net(\n",
              "    (fc): Linear(in_features=784, out_features=200, bias=True)\n",
              "    (fc2): Linear(in_features=200, out_features=10, bias=True)\n",
              "  )\n",
              ")"
            ]
          },
          "metadata": {},
          "execution_count": 2
        }
      ],
      "source": [
        "\n",
        "import torch\n",
        "import torch.nn as nn\n",
        "import torch.optim as optim\n",
        "import torch.nn.functional as F\n",
        "import numpy as np\n",
        "import time\n",
        "import matplotlib.pyplot as plt\n",
        "\n",
        "from torchvision import datasets, transforms\n",
        "from tensorboardX import SummaryWriter\n",
        "\n",
        "use_cuda = False\n",
        "device = torch.device(\"cuda\" if use_cuda else \"cpu\")\n",
        "batch_size = 64\n",
        "\n",
        "np.random.seed(42)\n",
        "torch.manual_seed(42)\n",
        "\n",
        "\n",
        "## Dataloaders\n",
        "train_dataset = datasets.MNIST('mnist_data/', train=True, download=True, transform=transforms.Compose(\n",
        "    [transforms.ToTensor()]\n",
        "))\n",
        "test_dataset = datasets.MNIST('mnist_data/', train=False, download=True, transform=transforms.Compose(\n",
        "    [transforms.ToTensor()]\n",
        "))\n",
        "\n",
        "train_loader = torch.utils.data.DataLoader(train_dataset, batch_size=batch_size, shuffle=True)\n",
        "test_loader = torch.utils.data.DataLoader(test_dataset, batch_size=batch_size, shuffle=False)\n",
        "\n",
        "## Simple NN. You can change this if you want. If you change it, mention the architectural details in your report.\n",
        "class Net(nn.Module):\n",
        "    def __init__(self):\n",
        "        super(Net, self).__init__()\n",
        "        self.fc = nn.Linear(28*28, 200)\n",
        "        self.fc2 = nn.Linear(200,10)\n",
        "\n",
        "    def forward(self, x):\n",
        "        x = x.view((-1, 28*28))\n",
        "        x = F.relu(self.fc(x))\n",
        "        x = self.fc2(x)\n",
        "        return x\n",
        "\n",
        "class Normalize(nn.Module):\n",
        "    def forward(self, x):\n",
        "        return (x - 0.1307)/0.3081\n",
        "\n",
        "# Add the data normalization as a first \"layer\" to the network\n",
        "# this allows us to search for adverserial examples to the real image, rather than\n",
        "# to the normalized image\n",
        "model = nn.Sequential(Normalize(), Net())\n",
        "\n",
        "model = model.to(device)\n",
        "model.train()"
      ]
    },
    {
      "cell_type": "markdown",
      "metadata": {
        "id": "NCmWfZHTO8Oo"
      },
      "source": [
        "# Implement the Attacks\n",
        "\n",
        "Functions are given a simple useful signature that you can start with. Feel free to extend the signature as you see fit.\n",
        "\n",
        "You may find it useful to create a 'batched' version of PGD that you can use to create the adversarial attack."
      ]
    },
    {
      "cell_type": "code",
      "execution_count": 10,
      "metadata": {
        "id": "EZjvA49yONqP"
      },
      "outputs": [],
      "source": [
        "# The last argument 'targeted' can be used to toggle between a targeted and untargeted attack.\n",
        "def fgsm(model, x, y, eps):\n",
        "    model.eval()\n",
        "    model.zero_grad()\n",
        "\n",
        "    x_cp = x.clone().detach().requires_grad_(True)\n",
        "\n",
        "    with torch.enable_grad():\n",
        "        out = model(x_cp)\n",
        "        loss = torch.nn.functional.cross_entropy(out, y)\n",
        "        loss.backward()\n",
        "        x_adv = x_cp + eps * x_cp.grad.sign()\n",
        "        x_adv = torch.clamp(x_adv, 0, 1)\n",
        "    return x_adv.detach()\n",
        "\n",
        "\n",
        "\n",
        "def pgd_untargeted(model, x, y, *, k=7, eps=0.1, eps_step=0.025):\n",
        "    model.eval()\n",
        "    x_adv = x.clone().detach()\n",
        "    x_orig = x.clone().detach()\n",
        "\n",
        "    for _ in range(k):\n",
        "        x_adv.requires_grad_(True)\n",
        "        outputs = model(x_adv)\n",
        "        loss = F.cross_entropy(outputs, y)\n",
        "        model.zero_grad()\n",
        "        loss.backward()\n",
        "        grad_sign = x_adv.grad.sign()\n",
        "        x_adv = x_adv + eps_step * grad_sign\n",
        "        eta = torch.clamp(x_adv - x_orig, min=-eps, max=eps)\n",
        "        x_adv = x_orig + eta\n",
        "        x_adv = torch.clamp(x_adv, 0, 1).detach()\n",
        "\n",
        "    return x_adv"
      ]
    },
    {
      "cell_type": "markdown",
      "metadata": {
        "id": "0Mja_AB4RykO"
      },
      "source": [
        "# Implement Adversarial Training"
      ]
    },
    {
      "cell_type": "code",
      "execution_count": 4,
      "metadata": {
        "id": "V-sw8yKYONqQ"
      },
      "outputs": [],
      "source": [
        "def train_model(model, num_epochs, enable_defense=True, attack='pgd', eps=0.1):\n",
        "    model.train()\n",
        "    optimizer = optim.Adam(model.parameters(), lr=0.001)\n",
        "    for epoch in range(num_epochs):\n",
        "        total_loss = 0\n",
        "        total_correct = 0\n",
        "        for data, target in train_loader:\n",
        "            data, target = data.to(device), target.to(device)\n",
        "            optimizer.zero_grad()\n",
        "            # Generate adversarial examples if defense is enabled\n",
        "            if enable_defense:\n",
        "                if attack == 'fgsm':\n",
        "                    data_adv = fgsm(model, data, target, eps=eps)\n",
        "                elif attack == 'pgd':\n",
        "                    data_adv = pgd_untargeted(model, data, target, k=7, eps=eps, eps_step=eps/4)\n",
        "                else:\n",
        "                    data_adv = data\n",
        "                output = model(data_adv)\n",
        "            else:\n",
        "                output = model(data)\n",
        "            loss = F.cross_entropy(output, target)\n",
        "            loss.backward()\n",
        "            optimizer.step()\n",
        "            total_loss += loss.item()\n",
        "            pred = output.argmax(dim=1)\n",
        "            total_correct += pred.eq(target).sum().item()\n",
        "        avg_loss = total_loss / len(train_loader)\n",
        "        accuracy = 100. * total_correct / len(train_dataset)\n",
        "        print(f'Epoch {epoch+1}/{num_epochs}, Loss: {avg_loss:.4f}, Accuracy: {accuracy:.2f}%')\n"
      ]
    },
    {
      "cell_type": "code",
      "execution_count": 5,
      "metadata": {
        "id": "4xLZZNJxE24m"
      },
      "outputs": [],
      "source": [
        "def test_model_on_attacks(model, attack='pgd', eps=0.1):\n",
        "    # TODO: implement this function to test the robust accuracy of the given model\n",
        "    # use pgd_untargeted() within this function\n",
        "    model.eval()\n",
        "    total_correct = 0\n",
        "    total_adv_correct = 0\n",
        "    total = 0\n",
        "    for data, target in test_loader:\n",
        "        data, target = data.to(device), target.to(device)\n",
        "        # Standard prediction\n",
        "        output = model(data)\n",
        "        pred = output.argmax(dim=1)\n",
        "        total_correct += pred.eq(target).sum().item()\n",
        "        # Generate adversarial examples\n",
        "        if attack == 'fgsm':\n",
        "            data_adv = fgsm(model, data, target, eps=eps)\n",
        "        elif attack == 'pgd':\n",
        "            data_adv = pgd_untargeted(model, data, target, k=7, eps=eps, eps_step=eps/4)\n",
        "        else:\n",
        "            data_adv = data\n",
        "        # Prediction on adversarial examples\n",
        "        output_adv = model(data_adv)\n",
        "        pred_adv = output_adv.argmax(dim=1)\n",
        "        total_adv_correct += pred_adv.eq(target).sum().item()\n",
        "        total += target.size(0)\n",
        "    standard_accuracy = 100. * total_correct / total\n",
        "    adv_accuracy = 100. * total_adv_correct / total\n",
        "    print(f'Standard Accuracy: {standard_accuracy:.2f}%')\n",
        "    print(f'Accuracy under attack ({attack}, eps={eps}): {adv_accuracy:.2f}%')\n",
        "\n"
      ]
    },
    {
      "cell_type": "markdown",
      "metadata": {
        "id": "ZPMdfEhtR3zm"
      },
      "source": [
        "# Study Accuracy, Quality, etc.\n",
        "\n",
        "Compare the various results and report your observations on the submission."
      ]
    },
    {
      "cell_type": "code",
      "execution_count": 6,
      "metadata": {
        "scrolled": true,
        "colab": {
          "base_uri": "https://localhost:8080/"
        },
        "id": "oeIL_bgeE24n",
        "outputId": "e116da8f-fcbf-4182-8597-306427468f66"
      },
      "outputs": [
        {
          "output_type": "stream",
          "name": "stdout",
          "text": [
            "Epoch 1/20, Loss: 0.2394, Accuracy: 92.93%\n",
            "Epoch 2/20, Loss: 0.1002, Accuracy: 96.90%\n",
            "Epoch 3/20, Loss: 0.0680, Accuracy: 97.90%\n",
            "Epoch 4/20, Loss: 0.0509, Accuracy: 98.36%\n",
            "Epoch 5/20, Loss: 0.0391, Accuracy: 98.75%\n",
            "Epoch 6/20, Loss: 0.0325, Accuracy: 98.92%\n",
            "Epoch 7/20, Loss: 0.0255, Accuracy: 99.18%\n",
            "Epoch 8/20, Loss: 0.0230, Accuracy: 99.22%\n",
            "Epoch 9/20, Loss: 0.0190, Accuracy: 99.34%\n",
            "Epoch 10/20, Loss: 0.0176, Accuracy: 99.41%\n",
            "Epoch 11/20, Loss: 0.0148, Accuracy: 99.49%\n",
            "Epoch 12/20, Loss: 0.0126, Accuracy: 99.54%\n",
            "Epoch 13/20, Loss: 0.0150, Accuracy: 99.46%\n",
            "Epoch 14/20, Loss: 0.0129, Accuracy: 99.57%\n",
            "Epoch 15/20, Loss: 0.0106, Accuracy: 99.62%\n",
            "Epoch 16/20, Loss: 0.0135, Accuracy: 99.55%\n",
            "Epoch 17/20, Loss: 0.0102, Accuracy: 99.66%\n",
            "Epoch 18/20, Loss: 0.0061, Accuracy: 99.80%\n",
            "Epoch 19/20, Loss: 0.0129, Accuracy: 99.56%\n",
            "Epoch 20/20, Loss: 0.0082, Accuracy: 99.74%\n"
          ]
        }
      ],
      "source": [
        "## train the original model\n",
        "model = nn.Sequential(Normalize(), Net())\n",
        "model = model.to(device)\n",
        "model.train()\n",
        "\n",
        "train_model(model, 20, False)\n",
        "torch.save(model.state_dict(), 'weights.pt')"
      ]
    },
    {
      "cell_type": "code",
      "source": [
        "import warnings\n",
        "warnings.filterwarnings(\"ignore\", category=FutureWarning)"
      ],
      "metadata": {
        "id": "G3R7S-9qIVPI"
      },
      "execution_count": 7,
      "outputs": []
    },
    {
      "cell_type": "code",
      "execution_count": 8,
      "metadata": {
        "colab": {
          "base_uri": "https://localhost:8080/"
        },
        "id": "UwRZ8eMXE24n",
        "outputId": "18ddd070-4698-4987-e3f7-00649eb9cdb9"
      },
      "outputs": [
        {
          "output_type": "stream",
          "name": "stdout",
          "text": [
            "\n",
            "Testing with epsilon = 0.05\n",
            "Standard Accuracy: 98.12%\n",
            "Accuracy under attack (pgd, eps=0.05): 76.32%\n",
            "\n",
            "Testing with epsilon = 0.1\n",
            "Standard Accuracy: 98.12%\n",
            "Accuracy under attack (pgd, eps=0.1): 22.37%\n",
            "\n",
            "Testing with epsilon = 0.15\n",
            "Standard Accuracy: 98.12%\n",
            "Accuracy under attack (pgd, eps=0.15): 3.95%\n",
            "\n",
            "Testing with epsilon = 0.2\n",
            "Standard Accuracy: 98.12%\n",
            "Accuracy under attack (pgd, eps=0.2): 0.56%\n"
          ]
        }
      ],
      "source": [
        "## PGD attack\n",
        "model = nn.Sequential(Normalize(), Net())\n",
        "model.load_state_dict(torch.load('weights.pt'))\n",
        "\n",
        "for eps in [0.05, 0.1, 0.15, 0.2]:\n",
        "    print(f\"\\nTesting with epsilon = {eps}\")\n",
        "    test_model_on_attacks(model, attack='pgd', eps=eps)"
      ]
    },
    {
      "cell_type": "code",
      "execution_count": 9,
      "metadata": {
        "id": "ufD-ccTFR8R2",
        "colab": {
          "base_uri": "https://localhost:8080/"
        },
        "outputId": "d4bb9cec-ed49-45b6-de72-729d71a510c4"
      },
      "outputs": [
        {
          "output_type": "stream",
          "name": "stdout",
          "text": [
            "Epoch 1/20, Loss: 0.7839, Accuracy: 73.61%\n",
            "Epoch 2/20, Loss: 0.4959, Accuracy: 83.64%\n",
            "Epoch 3/20, Loss: 0.4362, Accuracy: 85.69%\n",
            "Epoch 4/20, Loss: 0.4029, Accuracy: 86.81%\n",
            "Epoch 5/20, Loss: 0.3838, Accuracy: 87.33%\n",
            "Epoch 6/20, Loss: 0.3686, Accuracy: 87.90%\n",
            "Epoch 7/20, Loss: 0.3570, Accuracy: 88.28%\n",
            "Epoch 8/20, Loss: 0.3485, Accuracy: 88.48%\n",
            "Epoch 9/20, Loss: 0.3394, Accuracy: 88.78%\n",
            "Epoch 10/20, Loss: 0.3329, Accuracy: 89.06%\n",
            "Epoch 11/20, Loss: 0.3294, Accuracy: 89.14%\n",
            "Epoch 12/20, Loss: 0.3235, Accuracy: 89.26%\n",
            "Epoch 13/20, Loss: 0.3208, Accuracy: 89.32%\n",
            "Epoch 14/20, Loss: 0.3170, Accuracy: 89.48%\n",
            "Epoch 15/20, Loss: 0.3155, Accuracy: 89.64%\n",
            "Epoch 16/20, Loss: 0.3111, Accuracy: 89.72%\n",
            "Epoch 17/20, Loss: 0.3084, Accuracy: 89.83%\n",
            "Epoch 18/20, Loss: 0.3050, Accuracy: 89.94%\n",
            "Epoch 19/20, Loss: 0.3019, Accuracy: 89.98%\n",
            "Epoch 20/20, Loss: 0.2993, Accuracy: 90.11%\n"
          ]
        }
      ],
      "source": [
        "## PGD based adversarial training\n",
        "model = nn.Sequential(Normalize(), Net())\n",
        "eps = 0.1\n",
        "train_model(model, 20, True, 'pgd', eps)\n",
        "torch.save(model.state_dict(), f'weights_AT_{eps}.pt')"
      ]
    },
    {
      "cell_type": "code",
      "source": [
        "## fgsm attack\n",
        "model = nn.Sequential(Normalize(), Net())\n",
        "model.load_state_dict(torch.load('weights_AT_0.1.pt'))\n",
        "\n",
        "for eps in [0.05, 0.1, 0.15, 0.2]:\n",
        "    test_model_on_attacks(model, attack='fgsm', eps=eps)"
      ],
      "metadata": {
        "colab": {
          "base_uri": "https://localhost:8080/"
        },
        "id": "wMFhhzC2Y313",
        "outputId": "23aad444-cc49-4617-94e3-a3712c043d62"
      },
      "execution_count": 11,
      "outputs": [
        {
          "output_type": "stream",
          "name": "stdout",
          "text": [
            "Standard Accuracy: 98.25%\n",
            "Accuracy under attack (fgsm, eps=0.05): 95.63%\n",
            "Standard Accuracy: 98.25%\n",
            "Accuracy under attack (fgsm, eps=0.1): 90.54%\n",
            "Standard Accuracy: 98.25%\n",
            "Accuracy under attack (fgsm, eps=0.15): 80.38%\n",
            "Standard Accuracy: 98.25%\n",
            "Accuracy under attack (fgsm, eps=0.2): 61.75%\n"
          ]
        }
      ]
    },
    {
      "cell_type": "code",
      "source": [
        "## fgsm based adversarial training\n",
        "model = nn.Sequential(Normalize(), Net())\n",
        "eps = 0.1\n",
        "train_model(model, 20, True, 'fgsm', eps)\n",
        "torch.save(model.state_dict(), f'weights_AT_{eps}.pt')"
      ],
      "metadata": {
        "colab": {
          "base_uri": "https://localhost:8080/"
        },
        "id": "N_lgqw9wY6eU",
        "outputId": "db7936b8-c42f-4ad5-fd07-24ec8ebb98a1"
      },
      "execution_count": 12,
      "outputs": [
        {
          "output_type": "stream",
          "name": "stdout",
          "text": [
            "Epoch 1/20, Loss: 0.7563, Accuracy: 74.62%\n",
            "Epoch 2/20, Loss: 0.4660, Accuracy: 84.69%\n",
            "Epoch 3/20, Loss: 0.4048, Accuracy: 86.89%\n",
            "Epoch 4/20, Loss: 0.3737, Accuracy: 87.73%\n",
            "Epoch 5/20, Loss: 0.3518, Accuracy: 88.32%\n",
            "Epoch 6/20, Loss: 0.3367, Accuracy: 88.88%\n",
            "Epoch 7/20, Loss: 0.3268, Accuracy: 89.27%\n",
            "Epoch 8/20, Loss: 0.3133, Accuracy: 89.55%\n",
            "Epoch 9/20, Loss: 0.3073, Accuracy: 89.85%\n",
            "Epoch 10/20, Loss: 0.2995, Accuracy: 90.06%\n",
            "Epoch 11/20, Loss: 0.2927, Accuracy: 90.19%\n",
            "Epoch 12/20, Loss: 0.2890, Accuracy: 90.31%\n",
            "Epoch 13/20, Loss: 0.2844, Accuracy: 90.46%\n",
            "Epoch 14/20, Loss: 0.2788, Accuracy: 90.66%\n",
            "Epoch 15/20, Loss: 0.2729, Accuracy: 90.88%\n",
            "Epoch 16/20, Loss: 0.2701, Accuracy: 91.05%\n",
            "Epoch 17/20, Loss: 0.2658, Accuracy: 91.06%\n",
            "Epoch 18/20, Loss: 0.2636, Accuracy: 91.28%\n",
            "Epoch 19/20, Loss: 0.2609, Accuracy: 91.22%\n",
            "Epoch 20/20, Loss: 0.2605, Accuracy: 91.27%\n"
          ]
        }
      ]
    }
  ],
  "metadata": {
    "colab": {
      "provenance": [],
      "machine_shape": "hm",
      "gpuType": "T4"
    },
    "kernelspec": {
      "display_name": "Python 3",
      "name": "python3"
    },
    "language_info": {
      "codemirror_mode": {
        "name": "ipython",
        "version": 3
      },
      "file_extension": ".py",
      "mimetype": "text/x-python",
      "name": "python",
      "nbconvert_exporter": "python",
      "pygments_lexer": "ipython3",
      "version": "3.10.12"
    },
    "accelerator": "GPU"
  },
  "nbformat": 4,
  "nbformat_minor": 0
}